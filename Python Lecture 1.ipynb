{
 "cells": [
  {
   "cell_type": "markdown",
   "metadata": {},
   "source": [
    "# Python Fundamentals"
   ]
  },
  {
   "cell_type": "markdown",
   "metadata": {},
   "source": [
    "# Print Statement"
   ]
  },
  {
   "cell_type": "markdown",
   "metadata": {},
   "source": [
    "The print statement displays a message"
   ]
  },
  {
   "cell_type": "code",
   "execution_count": 1,
   "metadata": {},
   "outputs": [
    {
     "name": "stdout",
     "output_type": "stream",
     "text": [
      "Helo World!\n"
     ]
    }
   ],
   "source": [
    "print(\"Helo World!\")"
   ]
  },
  {
   "cell_type": "markdown",
   "metadata": {},
   "source": [
    "The basic usage involves passing one or more arguments to print. These arguments are separated by commas and are concatenated with spaces in the output."
   ]
  },
  {
   "cell_type": "markdown",
   "metadata": {},
   "source": [
    "# Using Format Strings"
   ]
  },
  {
   "cell_type": "markdown",
   "metadata": {},
   "source": [
    "You can use format strings to control the formatting of the output. Format strings are specified using curly braces {} as placeholders for values. The format function is then used to replace these placeholders with actual values."
   ]
  },
  {
   "cell_type": "code",
   "execution_count": 2,
   "metadata": {},
   "outputs": [
    {
     "name": "stdout",
     "output_type": "stream",
     "text": [
      "Name: Python, Age: 20\n"
     ]
    }
   ],
   "source": [
    "print('Name: {}, Age: {}'.format(\"Python\", \"20\"))"
   ]
  },
  {
   "cell_type": "markdown",
   "metadata": {},
   "source": [
    "# F-Strings"
   ]
  },
  {
   "cell_type": "markdown",
   "metadata": {},
   "source": [
    "Python introduced F-strings as a convenient way to format strings. You can directly embed expressions and variables within the string using curly braces preceded by an 'f' character."
   ]
  },
  {
   "cell_type": "code",
   "execution_count": 3,
   "metadata": {},
   "outputs": [
    {
     "name": "stdout",
     "output_type": "stream",
     "text": [
      "Name: Bob, Age: 25\n"
     ]
    }
   ],
   "source": [
    "name = 'Bob'\n",
    "age = 25\n",
    "print(f'Name: {name}, Age: {age}')"
   ]
  },
  {
   "cell_type": "markdown",
   "metadata": {},
   "source": [
    "# Formatting Options"
   ]
  },
  {
   "cell_type": "markdown",
   "metadata": {},
   "source": [
    "You can specify formatting options within the placeholders to control how values are displayed. For example:"
   ]
  },
  {
   "cell_type": "code",
   "execution_count": 4,
   "metadata": {},
   "outputs": [
    {
     "name": "stdout",
     "output_type": "stream",
     "text": [
      "Value of pi: 3.14\n"
     ]
    }
   ],
   "source": [
    "pi = 3.14159\n",
    "print(f'Value of pi: {pi:.2f}')\n"
   ]
  },
  {
   "cell_type": "markdown",
   "metadata": {},
   "source": [
    "n this case, :.2f specifies that the pi value should be formatted as a floating-point number with two decimal places."
   ]
  },
  {
   "cell_type": "markdown",
   "metadata": {},
   "source": [
    "# Escape Sequences"
   ]
  },
  {
   "cell_type": "markdown",
   "metadata": {},
   "source": [
    "You can use escape sequences to include special characters in your output. For example:"
   ]
  },
  {
   "cell_type": "code",
   "execution_count": 5,
   "metadata": {},
   "outputs": [
    {
     "name": "stdout",
     "output_type": "stream",
     "text": [
      "This is a new line\n",
      "This is on the next line\n",
      "This is a tab\tThis is after the tab\n"
     ]
    }
   ],
   "source": [
    "print('This is a new line\\nThis is on the next line')\n",
    "print('This is a tab\\tThis is after the tab')\n"
   ]
  },
  {
   "cell_type": "markdown",
   "metadata": {},
   "source": [
    "# Printing Multiple Lines"
   ]
  },
  {
   "cell_type": "markdown",
   "metadata": {},
   "source": [
    "To print multiple lines, you can use triple-quoted strings (single or double quotes) to preserve line breaks:"
   ]
  },
  {
   "cell_type": "code",
   "execution_count": 6,
   "metadata": {},
   "outputs": [
    {
     "name": "stdout",
     "output_type": "stream",
     "text": [
      "This is line 1.\n",
      "This is line 2.\n",
      "This is line 3.\n"
     ]
    }
   ],
   "source": [
    "multiline_text = '''This is line 1.\n",
    "This is line 2.\n",
    "This is line 3.'''\n",
    "print(multiline_text)\n"
   ]
  },
  {
   "cell_type": "markdown",
   "metadata": {},
   "source": [
    "# Comments"
   ]
  },
  {
   "cell_type": "markdown",
   "metadata": {},
   "source": [
    "Comments in Python are used to add explanations or notes within your code that are not executed by the Python interpreter. They are essential for making your code more understandable to both yourself and others who may read your code. Here are examples of single-line and multi-line comments along with explanations:"
   ]
  },
  {
   "cell_type": "code",
   "execution_count": 7,
   "metadata": {},
   "outputs": [
    {
     "name": "stdout",
     "output_type": "stream",
     "text": [
      "Hello, world!\n"
     ]
    }
   ],
   "source": [
    "# This is a single-line comment\n",
    "# Single-line comments begin with a hash symbol (#)\n",
    "# They are used to add explanations or notes on a single line\n",
    "# Anything after the hash symbol on the same line is considered a comment\n",
    "\n",
    "print(\"Hello, world!\")  # This is a comment\n",
    "\n",
    "# Example of a single-line comment within code\n",
    "\n",
    "x = 5  # Initialize x with the value 5\n",
    "\n",
    "\n"
   ]
  },
  {
   "cell_type": "code",
   "execution_count": 8,
   "metadata": {},
   "outputs": [
    {
     "data": {
      "text/plain": [
       "'\\nThis is another way to create a multi-line comment.\\nYou can use single or double triple-quotes.\\n'"
      ]
     },
     "execution_count": 8,
     "metadata": {},
     "output_type": "execute_result"
    }
   ],
   "source": [
    "# Multi-line comments are often used for more extensive explanations or documentation.\n",
    "# You can use triple-quotes (single or double) to create multi-line comments.\n",
    "# Anything enclosed between the triple-quotes is considered a comment.\n",
    "\n",
    "\"\"\"\n",
    "This is a multi-line comment.\n",
    "It spans across multiple lines.\n",
    "Useful for explaining complex code sections.\n",
    "\"\"\"\n",
    "\n",
    "'''\n",
    "This is another way to create a multi-line comment.\n",
    "You can use single or double triple-quotes.\n",
    "'''\n"
   ]
  },
  {
   "cell_type": "code",
   "execution_count": 9,
   "metadata": {},
   "outputs": [
    {
     "data": {
      "text/plain": [
       "'\\nprint(\"This line is commented out\")\\nx = 10  # This line is also commented out\\n'"
      ]
     },
     "execution_count": 9,
     "metadata": {},
     "output_type": "execute_result"
    }
   ],
   "source": [
    "\n",
    "# Multi-line comments can also be used to temporarily \"comment out\" blocks of code\n",
    "# by enclosing the code within triple-quotes.\n",
    "# This is useful for debugging or testing different code sections.\n",
    "\n",
    "\"\"\"\n",
    "print(\"This line is commented out\")\n",
    "x = 10  # This line is also commented out\n",
    "\"\"\"\n",
    "\n",
    "# Comments are not executed by Python and do not affect the program's behavior.\n",
    "# They are solely for human readability and should be used to make your code\n",
    "# easier to understand and maintain."
   ]
  },
  {
   "cell_type": "markdown",
   "metadata": {},
   "source": [
    "# Variables and DataTypes"
   ]
  },
  {
   "cell_type": "markdown",
   "metadata": {},
   "source": [
    "Variables and data types are fundamental concepts in programming. They are used to store and manipulate data in a program. Let's break down what variables are and explore the different data types in Python:"
   ]
  },
  {
   "cell_type": "markdown",
   "metadata": {},
   "source": [
    "# Variables"
   ]
  },
  {
   "cell_type": "markdown",
   "metadata": {},
   "source": [
    "In Python, a variable is like a container or a named storage location used to store data values. You can think of a variable as a label attached to a particular value. Variables allow you to work with data in a flexible and dynamic way."
   ]
  },
  {
   "cell_type": "markdown",
   "metadata": {},
   "source": [
    "Key points about variables:"
   ]
  },
  {
   "cell_type": "markdown",
   "metadata": {},
   "source": [
    "Naming Conventions: Variable names in Python must follow certain naming conventions. They must start with a letter (a-z, A-Z) or an underscore (_) and can be followed by letters, digits (0-9), or underscores. Variable names are case-sensitive, meaning name and Name are considered different variables.\n",
    "\n",
    "Assignment: You can assign values to variables using the assignment operator =. The value on the right side is assigned to the variable on the left side.\n",
    "\n",
    "Dynamic Typing: Python uses dynamic typing, which means you don't need to declare the data type of a variable explicitly. Python determines the data type of a variable based on the value it holds."
   ]
  },
  {
   "cell_type": "markdown",
   "metadata": {},
   "source": [
    "Here are examples of each variable and data type in Python:"
   ]
  },
  {
   "cell_type": "markdown",
   "metadata": {},
   "source": [
    "# Integer"
   ]
  },
  {
   "cell_type": "markdown",
   "metadata": {},
   "source": [
    "Represents whole numbers, both positive and negative, and is used for counting and mathematical operations."
   ]
  },
  {
   "cell_type": "code",
   "execution_count": 10,
   "metadata": {},
   "outputs": [
    {
     "name": "stdout",
     "output_type": "stream",
     "text": [
      "Sum: -5\n",
      "Product: -50\n"
     ]
    }
   ],
   "source": [
    "# Integer variable\n",
    "x = 5\n",
    "y = -10\n",
    "\n",
    "# Mathematical operations with integers\n",
    "sum_result = x + y\n",
    "product_result = x * y\n",
    "\n",
    "print(\"Sum:\", sum_result)\n",
    "print(\"Product:\", product_result)\n"
   ]
  },
  {
   "cell_type": "markdown",
   "metadata": {},
   "source": [
    "# Floating Point Number"
   ]
  },
  {
   "cell_type": "markdown",
   "metadata": {},
   "source": [
    "Represents numbers with decimal points, allowing for precise calculations, especially in scientific and engineering contexts."
   ]
  },
  {
   "cell_type": "code",
   "execution_count": 11,
   "metadata": {},
   "outputs": [
    {
     "name": "stdout",
     "output_type": "stream",
     "text": [
      "Circumference: 31.4159\n",
      "Half Temperature: -0.25\n"
     ]
    }
   ],
   "source": [
    "# Floating-point variables\n",
    "pi = 3.14159\n",
    "temperature = -0.5\n",
    "\n",
    "# Mathematical operations with floats\n",
    "circumference = 2 * pi * 5  # Calculate the circumference of a circle with radius 5\n",
    "half_temperature = temperature / 2\n",
    "\n",
    "print(\"Circumference:\", circumference)\n",
    "print(\"Half Temperature:\", half_temperature)\n"
   ]
  },
  {
   "cell_type": "markdown",
   "metadata": {},
   "source": [
    "# String"
   ]
  },
  {
   "cell_type": "markdown",
   "metadata": {},
   "source": [
    "Represents text data enclosed in quotes, used for working with textual information, such as names and messages."
   ]
  },
  {
   "cell_type": "code",
   "execution_count": 12,
   "metadata": {},
   "outputs": [
    {
     "name": "stdout",
     "output_type": "stream",
     "text": [
      "Hi, Alice!\n",
      "Message: Hello, Python!\n"
     ]
    }
   ],
   "source": [
    "# String variables\n",
    "name = \"Alice\"\n",
    "message = 'Hello, Python!'\n",
    "\n",
    "# Concatenating strings\n",
    "greeting = \"Hi, \" + name + \"!\"\n",
    "\n",
    "print(greeting)\n",
    "print(\"Message:\", message)\n"
   ]
  },
  {
   "cell_type": "markdown",
   "metadata": {},
   "source": [
    "# Boolean"
   ]
  },
  {
   "cell_type": "markdown",
   "metadata": {},
   "source": [
    "Represents text data enclosed in quotes, used for working with textual information, such as names and messages."
   ]
  },
  {
   "cell_type": "code",
   "execution_count": 13,
   "metadata": {},
   "outputs": [
    {
     "name": "stdout",
     "output_type": "stream",
     "text": [
      "Python is fun!\n",
      "Not currently learning.\n"
     ]
    }
   ],
   "source": [
    "# Boolean variables\n",
    "is_python_fun = True\n",
    "is_learning = False\n",
    "\n",
    "# Conditional statements\n",
    "if is_python_fun:\n",
    "    print(\"Python is fun!\")\n",
    "\n",
    "if not is_learning:\n",
    "    print(\"Not currently learning.\")\n"
   ]
  },
  {
   "cell_type": "markdown",
   "metadata": {},
   "source": [
    "# Date & Time"
   ]
  },
  {
   "cell_type": "markdown",
   "metadata": {},
   "source": [
    " In Python, the datetime module is used to work with dates and times. It provides various classes and functions for creating, manipulating, and formatting date and time values. Here's an explanation of the datetime module and some examples of how to use it:\n",
    "\n",
    "datetime Module:\n",
    "Explanation: The datetime module in Python allows you to work with date and time values. It includes several classes, such as datetime, date, time, and timedelta, which provide functionality for handling different aspects of date and time. You can use it for tasks like representing dates, calculating time differences, and formatting date and time strings."
   ]
  },
  {
   "cell_type": "markdown",
   "metadata": {},
   "source": [
    "# Examples"
   ]
  },
  {
   "cell_type": "markdown",
   "metadata": {},
   "source": [
    "Get the current date and time"
   ]
  },
  {
   "cell_type": "code",
   "execution_count": 15,
   "metadata": {},
   "outputs": [
    {
     "name": "stdout",
     "output_type": "stream",
     "text": [
      "Current Date and Time: 2023-11-05 18:49:37.378003\n"
     ]
    }
   ],
   "source": [
    "from datetime import datetime  # Import the datetime module\n",
    "\n",
    "# Get the current date and time\n",
    "current_datetime = datetime.now()  # Create a datetime object representing the current date and time\n",
    "print(\"Current Date and Time:\", current_datetime)  # Print the current date and time\n"
   ]
  },
  {
   "cell_type": "markdown",
   "metadata": {},
   "source": [
    "Formatting Date and Time as Strings:"
   ]
  },
  {
   "cell_type": "code",
   "execution_count": 16,
   "metadata": {},
   "outputs": [
    {
     "name": "stdout",
     "output_type": "stream",
     "text": [
      "Formatted Date and Time: 2023-11-05 18:49:53\n"
     ]
    }
   ],
   "source": [
    "from datetime import datetime  # Import the datetime module\n",
    "\n",
    "# Format a datetime object as a string\n",
    "current_datetime = datetime.now()  # Create a datetime object representing the current date and time\n",
    "formatted_date = current_datetime.strftime(\"%Y-%m-%d %H:%M:%S\")  # Format the datetime object as a string\n",
    "print(\"Formatted Date and Time:\", formatted_date)  # Print the formatted date and time\n"
   ]
  },
  {
   "cell_type": "markdown",
   "metadata": {},
   "source": [
    "Calculating Time Differences:"
   ]
  },
  {
   "cell_type": "code",
   "execution_count": 17,
   "metadata": {},
   "outputs": [
    {
     "name": "stdout",
     "output_type": "stream",
     "text": [
      "Time Difference: 5 days, 0:00:00\n"
     ]
    }
   ],
   "source": [
    "from datetime import datetime, timedelta  # Import the datetime and timedelta classes\n",
    "\n",
    "# Calculate the difference between two dates\n",
    "date1 = datetime(2023, 9, 27)  # Create a datetime object for the first date\n",
    "date2 = datetime(2023, 10, 2)  # Create a datetime object for the second date\n",
    "time_difference = date2 - date1  # Calculate the time difference\n",
    "print(\"Time Difference:\", time_difference)  # Print the time difference\n"
   ]
  },
  {
   "cell_type": "markdown",
   "metadata": {},
   "source": [
    "Parsing Dates from Strings:"
   ]
  },
  {
   "cell_type": "code",
   "execution_count": 18,
   "metadata": {},
   "outputs": [
    {
     "name": "stdout",
     "output_type": "stream",
     "text": [
      "Parsed Date: 2023-09-27 00:00:00\n"
     ]
    }
   ],
   "source": [
    "from datetime import datetime  # Import the datetime module\n",
    "\n",
    "# Parse a date from a string\n",
    "date_str = \"2023-09-27\"  # Define a date string\n",
    "parsed_date = datetime.strptime(date_str, \"%Y-%m-%d\")  # Parse the string into a datetime object\n",
    "print(\"Parsed Date:\", parsed_date)  # Print the parsed date\n"
   ]
  },
  {
   "cell_type": "markdown",
   "metadata": {},
   "source": [
    "Adding Time Intervals:"
   ]
  },
  {
   "cell_type": "code",
   "execution_count": 19,
   "metadata": {},
   "outputs": [
    {
     "name": "stdout",
     "output_type": "stream",
     "text": [
      "One Week Later: 2023-11-12 18:50:29.875241\n"
     ]
    }
   ],
   "source": [
    "from datetime import datetime, timedelta  # Import the datetime and timedelta classes\n",
    "\n",
    "# Add a time interval to a date\n",
    "current_date = datetime.now()  # Create a datetime object for the current date and time\n",
    "one_week = timedelta(weeks=1)  # Create a timedelta object representing one week\n",
    "new_date = current_date + one_week  # Add the time interval to the current date\n",
    "print(\"One Week Later:\", new_date)  # Print the resulting date\n"
   ]
  },
  {
   "cell_type": "markdown",
   "metadata": {},
   "source": [
    "# Exception Handling"
   ]
  },
  {
   "cell_type": "markdown",
   "metadata": {},
   "source": [
    "Exception handling is a crucial concept in programming that allows you to gracefully manage and respond to errors or exceptional situations that may occur during the execution of a program. Python, like many programming languages, provides built-in support for handling exceptions. Here, we'll explain what exceptions are, discuss different types of exceptions, and introduce the concept of exception handling."
   ]
  },
  {
   "cell_type": "markdown",
   "metadata": {},
   "source": [
    "# What Are Exceptions?\n",
    "Explanation: An exception is an event that occurs during the execution of a program that disrupts the normal flow of instructions. When an exception occurs, Python generates an exception object that contains information about the error, such as its type and context. These exceptions can be caused by various factors, such as invalid input, file not found, or division by zero."
   ]
  },
  {
   "cell_type": "markdown",
   "metadata": {},
   "source": [
    "# Types of Exceptions:\n",
    "\n",
    "# SyntaxError: \n",
    "        Occurs when there is a syntax error in your code, making it invalid Python code.\n",
    "\n",
    "# NameError: \n",
    "        Occurs when you try to access a variable or function that is not defined.\n",
    "\n",
    "# TypeError: \n",
    "        Occurs when you perform an operation on a data type that is not supported.\n",
    "\n",
    "# ValueError: \n",
    "        Occurs when you try to convert a value to a different data type, but the conversion is not valid.\n",
    "\n",
    "# FileNotFoundError: \n",
    "        Occurs when you attempt to open or access a file that does not exist.\n",
    "\n",
    "# ZeroDivisionError: \n",
    "        Occurs when you try to divide a number by zero.\n"
   ]
  },
  {
   "cell_type": "markdown",
   "metadata": {},
   "source": [
    "# Exception Handling:\n",
    "\n",
    "# Explanation: \n",
    "        Exception handling is the process of anticipating and handling exceptions in your code to prevent crashes and allow for graceful error recovery. In Python, you can use try, except, else, and finally blocks to handle exceptions. The try block contains the code that may raise an exception, while the except block specifies how to handle the exception if it occurs."
   ]
  },
  {
   "cell_type": "code",
   "execution_count": 20,
   "metadata": {},
   "outputs": [
    {
     "name": "stdout",
     "output_type": "stream",
     "text": [
      "Error: division by zero\n"
     ]
    }
   ],
   "source": [
    "try:\n",
    "    # Code that may raise an exception\n",
    "    result = 10 / 0  # This will raise a ZeroDivisionError\n",
    "except ZeroDivisionError as e:\n",
    "    # Handle the exception\n",
    "    print(\"Error:\", e)  # Print the error message\n"
   ]
  },
  {
   "cell_type": "markdown",
   "metadata": {},
   "source": [
    "The try block attempts to execute the code inside it.\n",
    "If an exception occurs, Python searches for a matching except block.\n",
    "If a matching except block is found, it executes the code within that block.\n",
    "You can specify the type of exception to catch (e.g., ZeroDivisionError) and assign it to a variable (e) for further handling.\n",
    "You can also have multiple except blocks to handle different types of exceptions."
   ]
  },
  {
   "cell_type": "markdown",
   "metadata": {},
   "source": [
    "Additionally, you can use else to execute code when no exceptions occur and finally to specify code that always executes, regardless of whether an exception occurs or not."
   ]
  },
  {
   "cell_type": "code",
   "execution_count": null,
   "metadata": {},
   "outputs": [],
   "source": [
    "try:\n",
    "    result = 10 / 2  # This will not raise an exception\n",
    "except ZeroDivisionError as e:\n",
    "    print(\"Error:\", e)\n",
    "else:\n",
    "    print(\"No exceptions occurred. Result:\", result)\n",
    "finally:\n",
    "    print(\"This will always run.\")\n"
   ]
  },
  {
   "cell_type": "markdown",
   "metadata": {},
   "source": [
    "Exception handling allows your program to continue running even when errors occur, providing a way to gracefully recover from unexpected situations and maintain program stability."
   ]
  }
 ],
 "metadata": {
  "kernelspec": {
   "display_name": "Python 3 (ipykernel)",
   "language": "python",
   "name": "python3"
  },
  "language_info": {
   "codemirror_mode": {
    "name": "ipython",
    "version": 3
   },
   "file_extension": ".py",
   "mimetype": "text/x-python",
   "name": "python",
   "nbconvert_exporter": "python",
   "pygments_lexer": "ipython3",
   "version": "3.9.7"
  }
 },
 "nbformat": 4,
 "nbformat_minor": 4
}
