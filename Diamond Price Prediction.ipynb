{
 "cells": [
  {
   "cell_type": "markdown",
   "id": "0773c26e",
   "metadata": {},
   "source": [
    "# Diamond Price Prediction"
   ]
  },
  {
   "cell_type": "code",
   "execution_count": 2,
   "id": "2078e039",
   "metadata": {},
   "outputs": [],
   "source": [
    "import numpy as np\n",
    "import pandas as pd\n",
    "import matplotlib.pyplot as plt\n",
    "import seaborn as sns"
   ]
  },
  {
   "cell_type": "code",
   "execution_count": 4,
   "id": "9e98d2da",
   "metadata": {},
   "outputs": [
    {
     "data": {
      "text/html": [
       "<div>\n",
       "<style scoped>\n",
       "    .dataframe tbody tr th:only-of-type {\n",
       "        vertical-align: middle;\n",
       "    }\n",
       "\n",
       "    .dataframe tbody tr th {\n",
       "        vertical-align: top;\n",
       "    }\n",
       "\n",
       "    .dataframe thead th {\n",
       "        text-align: right;\n",
       "    }\n",
       "</style>\n",
       "<table border=\"1\" class=\"dataframe\">\n",
       "  <thead>\n",
       "    <tr style=\"text-align: right;\">\n",
       "      <th></th>\n",
       "      <th>Carat(Weight of Daimond)</th>\n",
       "      <th>Cut(Quality)</th>\n",
       "      <th>Color</th>\n",
       "      <th>Clarity</th>\n",
       "      <th>Depth</th>\n",
       "      <th>Table</th>\n",
       "      <th>Price(in US dollars)</th>\n",
       "      <th>X(length)</th>\n",
       "      <th>Y(width)</th>\n",
       "      <th>Z(Depth)</th>\n",
       "    </tr>\n",
       "  </thead>\n",
       "  <tbody>\n",
       "    <tr>\n",
       "      <th>0</th>\n",
       "      <td>0.23</td>\n",
       "      <td>Ideal</td>\n",
       "      <td>E</td>\n",
       "      <td>SI2</td>\n",
       "      <td>61.5</td>\n",
       "      <td>55.0</td>\n",
       "      <td>326</td>\n",
       "      <td>3.95</td>\n",
       "      <td>3.98</td>\n",
       "      <td>2.43</td>\n",
       "    </tr>\n",
       "    <tr>\n",
       "      <th>1</th>\n",
       "      <td>0.21</td>\n",
       "      <td>Premium</td>\n",
       "      <td>E</td>\n",
       "      <td>SI1</td>\n",
       "      <td>59.8</td>\n",
       "      <td>61.0</td>\n",
       "      <td>326</td>\n",
       "      <td>3.89</td>\n",
       "      <td>3.84</td>\n",
       "      <td>2.31</td>\n",
       "    </tr>\n",
       "    <tr>\n",
       "      <th>2</th>\n",
       "      <td>0.23</td>\n",
       "      <td>Good</td>\n",
       "      <td>E</td>\n",
       "      <td>VS1</td>\n",
       "      <td>56.9</td>\n",
       "      <td>65.0</td>\n",
       "      <td>327</td>\n",
       "      <td>4.05</td>\n",
       "      <td>4.07</td>\n",
       "      <td>2.31</td>\n",
       "    </tr>\n",
       "    <tr>\n",
       "      <th>3</th>\n",
       "      <td>0.29</td>\n",
       "      <td>Premium</td>\n",
       "      <td>I</td>\n",
       "      <td>VS2</td>\n",
       "      <td>62.4</td>\n",
       "      <td>58.0</td>\n",
       "      <td>334</td>\n",
       "      <td>4.20</td>\n",
       "      <td>4.23</td>\n",
       "      <td>2.63</td>\n",
       "    </tr>\n",
       "    <tr>\n",
       "      <th>4</th>\n",
       "      <td>0.31</td>\n",
       "      <td>Good</td>\n",
       "      <td>J</td>\n",
       "      <td>SI2</td>\n",
       "      <td>63.3</td>\n",
       "      <td>58.0</td>\n",
       "      <td>335</td>\n",
       "      <td>4.34</td>\n",
       "      <td>4.35</td>\n",
       "      <td>2.75</td>\n",
       "    </tr>\n",
       "  </tbody>\n",
       "</table>\n",
       "</div>"
      ],
      "text/plain": [
       "   Carat(Weight of Daimond) Cut(Quality) Color Clarity  Depth  Table  \\\n",
       "0                      0.23        Ideal     E     SI2   61.5   55.0   \n",
       "1                      0.21      Premium     E     SI1   59.8   61.0   \n",
       "2                      0.23         Good     E     VS1   56.9   65.0   \n",
       "3                      0.29      Premium     I     VS2   62.4   58.0   \n",
       "4                      0.31         Good     J     SI2   63.3   58.0   \n",
       "\n",
       "   Price(in US dollars)  X(length)  Y(width)  Z(Depth)  \n",
       "0                   326       3.95      3.98      2.43  \n",
       "1                   326       3.89      3.84      2.31  \n",
       "2                   327       4.05      4.07      2.31  \n",
       "3                   334       4.20      4.23      2.63  \n",
       "4                   335       4.34      4.35      2.75  "
      ]
     },
     "execution_count": 4,
     "metadata": {},
     "output_type": "execute_result"
    }
   ],
   "source": [
    "Dataset = 'Diamond Price Prediction.csv'\n",
    "data = pd.read_csv(Dataset)\n",
    "data.head()"
   ]
  },
  {
   "cell_type": "code",
   "execution_count": 5,
   "id": "c8910477",
   "metadata": {},
   "outputs": [
    {
     "data": {
      "text/html": [
       "<div>\n",
       "<style scoped>\n",
       "    .dataframe tbody tr th:only-of-type {\n",
       "        vertical-align: middle;\n",
       "    }\n",
       "\n",
       "    .dataframe tbody tr th {\n",
       "        vertical-align: top;\n",
       "    }\n",
       "\n",
       "    .dataframe thead th {\n",
       "        text-align: right;\n",
       "    }\n",
       "</style>\n",
       "<table border=\"1\" class=\"dataframe\">\n",
       "  <thead>\n",
       "    <tr style=\"text-align: right;\">\n",
       "      <th></th>\n",
       "      <th>Carat(Weight of Daimond)</th>\n",
       "      <th>Cut(Quality)</th>\n",
       "      <th>Color</th>\n",
       "      <th>Clarity</th>\n",
       "      <th>Depth</th>\n",
       "      <th>Table</th>\n",
       "      <th>Price(in US dollars)</th>\n",
       "      <th>X(length)</th>\n",
       "      <th>Y(width)</th>\n",
       "      <th>Z(Depth)</th>\n",
       "    </tr>\n",
       "  </thead>\n",
       "  <tbody>\n",
       "    <tr>\n",
       "      <th>53935</th>\n",
       "      <td>0.72</td>\n",
       "      <td>Ideal</td>\n",
       "      <td>D</td>\n",
       "      <td>SI1</td>\n",
       "      <td>60.8</td>\n",
       "      <td>57.0</td>\n",
       "      <td>2757</td>\n",
       "      <td>5.75</td>\n",
       "      <td>5.76</td>\n",
       "      <td>3.50</td>\n",
       "    </tr>\n",
       "    <tr>\n",
       "      <th>53936</th>\n",
       "      <td>0.72</td>\n",
       "      <td>Good</td>\n",
       "      <td>D</td>\n",
       "      <td>SI1</td>\n",
       "      <td>63.1</td>\n",
       "      <td>55.0</td>\n",
       "      <td>2757</td>\n",
       "      <td>5.69</td>\n",
       "      <td>5.75</td>\n",
       "      <td>3.61</td>\n",
       "    </tr>\n",
       "    <tr>\n",
       "      <th>53937</th>\n",
       "      <td>0.70</td>\n",
       "      <td>Very Good</td>\n",
       "      <td>D</td>\n",
       "      <td>SI1</td>\n",
       "      <td>62.8</td>\n",
       "      <td>60.0</td>\n",
       "      <td>2757</td>\n",
       "      <td>5.66</td>\n",
       "      <td>5.68</td>\n",
       "      <td>3.56</td>\n",
       "    </tr>\n",
       "    <tr>\n",
       "      <th>53938</th>\n",
       "      <td>0.86</td>\n",
       "      <td>Premium</td>\n",
       "      <td>H</td>\n",
       "      <td>SI2</td>\n",
       "      <td>61.0</td>\n",
       "      <td>58.0</td>\n",
       "      <td>2757</td>\n",
       "      <td>6.15</td>\n",
       "      <td>6.12</td>\n",
       "      <td>3.74</td>\n",
       "    </tr>\n",
       "    <tr>\n",
       "      <th>53939</th>\n",
       "      <td>0.75</td>\n",
       "      <td>Ideal</td>\n",
       "      <td>D</td>\n",
       "      <td>SI2</td>\n",
       "      <td>62.2</td>\n",
       "      <td>55.0</td>\n",
       "      <td>2757</td>\n",
       "      <td>5.83</td>\n",
       "      <td>5.87</td>\n",
       "      <td>3.64</td>\n",
       "    </tr>\n",
       "  </tbody>\n",
       "</table>\n",
       "</div>"
      ],
      "text/plain": [
       "       Carat(Weight of Daimond) Cut(Quality) Color Clarity  Depth  Table  \\\n",
       "53935                      0.72        Ideal     D     SI1   60.8   57.0   \n",
       "53936                      0.72         Good     D     SI1   63.1   55.0   \n",
       "53937                      0.70    Very Good     D     SI1   62.8   60.0   \n",
       "53938                      0.86      Premium     H     SI2   61.0   58.0   \n",
       "53939                      0.75        Ideal     D     SI2   62.2   55.0   \n",
       "\n",
       "       Price(in US dollars)  X(length)  Y(width)  Z(Depth)  \n",
       "53935                  2757       5.75      5.76      3.50  \n",
       "53936                  2757       5.69      5.75      3.61  \n",
       "53937                  2757       5.66      5.68      3.56  \n",
       "53938                  2757       6.15      6.12      3.74  \n",
       "53939                  2757       5.83      5.87      3.64  "
      ]
     },
     "execution_count": 5,
     "metadata": {},
     "output_type": "execute_result"
    }
   ],
   "source": [
    "data.tail()"
   ]
  },
  {
   "cell_type": "code",
   "execution_count": 6,
   "id": "7d36a643",
   "metadata": {},
   "outputs": [
    {
     "data": {
      "text/plain": [
       "(53940, 10)"
      ]
     },
     "execution_count": 6,
     "metadata": {},
     "output_type": "execute_result"
    }
   ],
   "source": [
    "data.shape"
   ]
  },
  {
   "cell_type": "code",
   "execution_count": 7,
   "id": "c8ef1387",
   "metadata": {},
   "outputs": [
    {
     "name": "stdout",
     "output_type": "stream",
     "text": [
      "<class 'pandas.core.frame.DataFrame'>\n",
      "RangeIndex: 53940 entries, 0 to 53939\n",
      "Data columns (total 10 columns):\n",
      " #   Column                    Non-Null Count  Dtype  \n",
      "---  ------                    --------------  -----  \n",
      " 0   Carat(Weight of Daimond)  53940 non-null  float64\n",
      " 1   Cut(Quality)              53940 non-null  object \n",
      " 2   Color                     53940 non-null  object \n",
      " 3   Clarity                   53940 non-null  object \n",
      " 4   Depth                     53940 non-null  float64\n",
      " 5   Table                     53940 non-null  float64\n",
      " 6   Price(in US dollars)      53940 non-null  int64  \n",
      " 7   X(length)                 53940 non-null  float64\n",
      " 8   Y(width)                  53940 non-null  float64\n",
      " 9   Z(Depth)                  53940 non-null  float64\n",
      "dtypes: float64(6), int64(1), object(3)\n",
      "memory usage: 4.1+ MB\n"
     ]
    }
   ],
   "source": [
    "data.info()"
   ]
  },
  {
   "cell_type": "code",
   "execution_count": 8,
   "id": "68729b6d",
   "metadata": {},
   "outputs": [
    {
     "data": {
      "text/html": [
       "<div>\n",
       "<style scoped>\n",
       "    .dataframe tbody tr th:only-of-type {\n",
       "        vertical-align: middle;\n",
       "    }\n",
       "\n",
       "    .dataframe tbody tr th {\n",
       "        vertical-align: top;\n",
       "    }\n",
       "\n",
       "    .dataframe thead th {\n",
       "        text-align: right;\n",
       "    }\n",
       "</style>\n",
       "<table border=\"1\" class=\"dataframe\">\n",
       "  <thead>\n",
       "    <tr style=\"text-align: right;\">\n",
       "      <th></th>\n",
       "      <th>Carat(Weight of Daimond)</th>\n",
       "      <th>Depth</th>\n",
       "      <th>Table</th>\n",
       "      <th>Price(in US dollars)</th>\n",
       "      <th>X(length)</th>\n",
       "      <th>Y(width)</th>\n",
       "      <th>Z(Depth)</th>\n",
       "    </tr>\n",
       "  </thead>\n",
       "  <tbody>\n",
       "    <tr>\n",
       "      <th>count</th>\n",
       "      <td>53940.000000</td>\n",
       "      <td>53940.000000</td>\n",
       "      <td>53940.000000</td>\n",
       "      <td>53940.000000</td>\n",
       "      <td>53940.000000</td>\n",
       "      <td>53940.000000</td>\n",
       "      <td>53940.000000</td>\n",
       "    </tr>\n",
       "    <tr>\n",
       "      <th>mean</th>\n",
       "      <td>0.797940</td>\n",
       "      <td>61.749405</td>\n",
       "      <td>57.457184</td>\n",
       "      <td>3932.799722</td>\n",
       "      <td>5.731157</td>\n",
       "      <td>5.734526</td>\n",
       "      <td>3.538734</td>\n",
       "    </tr>\n",
       "    <tr>\n",
       "      <th>std</th>\n",
       "      <td>0.474011</td>\n",
       "      <td>1.432621</td>\n",
       "      <td>2.234491</td>\n",
       "      <td>3989.439738</td>\n",
       "      <td>1.121761</td>\n",
       "      <td>1.142135</td>\n",
       "      <td>0.705699</td>\n",
       "    </tr>\n",
       "    <tr>\n",
       "      <th>min</th>\n",
       "      <td>0.200000</td>\n",
       "      <td>43.000000</td>\n",
       "      <td>43.000000</td>\n",
       "      <td>326.000000</td>\n",
       "      <td>0.000000</td>\n",
       "      <td>0.000000</td>\n",
       "      <td>0.000000</td>\n",
       "    </tr>\n",
       "    <tr>\n",
       "      <th>25%</th>\n",
       "      <td>0.400000</td>\n",
       "      <td>61.000000</td>\n",
       "      <td>56.000000</td>\n",
       "      <td>950.000000</td>\n",
       "      <td>4.710000</td>\n",
       "      <td>4.720000</td>\n",
       "      <td>2.910000</td>\n",
       "    </tr>\n",
       "    <tr>\n",
       "      <th>50%</th>\n",
       "      <td>0.700000</td>\n",
       "      <td>61.800000</td>\n",
       "      <td>57.000000</td>\n",
       "      <td>2401.000000</td>\n",
       "      <td>5.700000</td>\n",
       "      <td>5.710000</td>\n",
       "      <td>3.530000</td>\n",
       "    </tr>\n",
       "    <tr>\n",
       "      <th>75%</th>\n",
       "      <td>1.040000</td>\n",
       "      <td>62.500000</td>\n",
       "      <td>59.000000</td>\n",
       "      <td>5324.250000</td>\n",
       "      <td>6.540000</td>\n",
       "      <td>6.540000</td>\n",
       "      <td>4.040000</td>\n",
       "    </tr>\n",
       "    <tr>\n",
       "      <th>max</th>\n",
       "      <td>5.010000</td>\n",
       "      <td>79.000000</td>\n",
       "      <td>95.000000</td>\n",
       "      <td>18823.000000</td>\n",
       "      <td>10.740000</td>\n",
       "      <td>58.900000</td>\n",
       "      <td>31.800000</td>\n",
       "    </tr>\n",
       "  </tbody>\n",
       "</table>\n",
       "</div>"
      ],
      "text/plain": [
       "       Carat(Weight of Daimond)         Depth         Table  \\\n",
       "count              53940.000000  53940.000000  53940.000000   \n",
       "mean                   0.797940     61.749405     57.457184   \n",
       "std                    0.474011      1.432621      2.234491   \n",
       "min                    0.200000     43.000000     43.000000   \n",
       "25%                    0.400000     61.000000     56.000000   \n",
       "50%                    0.700000     61.800000     57.000000   \n",
       "75%                    1.040000     62.500000     59.000000   \n",
       "max                    5.010000     79.000000     95.000000   \n",
       "\n",
       "       Price(in US dollars)     X(length)      Y(width)      Z(Depth)  \n",
       "count          53940.000000  53940.000000  53940.000000  53940.000000  \n",
       "mean            3932.799722      5.731157      5.734526      3.538734  \n",
       "std             3989.439738      1.121761      1.142135      0.705699  \n",
       "min              326.000000      0.000000      0.000000      0.000000  \n",
       "25%              950.000000      4.710000      4.720000      2.910000  \n",
       "50%             2401.000000      5.700000      5.710000      3.530000  \n",
       "75%             5324.250000      6.540000      6.540000      4.040000  \n",
       "max            18823.000000     10.740000     58.900000     31.800000  "
      ]
     },
     "execution_count": 8,
     "metadata": {},
     "output_type": "execute_result"
    }
   ],
   "source": [
    "data.describe()"
   ]
  },
  {
   "cell_type": "code",
   "execution_count": 9,
   "id": "418c2d6f",
   "metadata": {},
   "outputs": [
    {
     "data": {
      "text/plain": [
       "<bound method DataFrame.value_counts of        Carat(Weight of Daimond) Cut(Quality) Color Clarity  Depth  Table  \\\n",
       "0                          0.23        Ideal     E     SI2   61.5   55.0   \n",
       "1                          0.21      Premium     E     SI1   59.8   61.0   \n",
       "2                          0.23         Good     E     VS1   56.9   65.0   \n",
       "3                          0.29      Premium     I     VS2   62.4   58.0   \n",
       "4                          0.31         Good     J     SI2   63.3   58.0   \n",
       "...                         ...          ...   ...     ...    ...    ...   \n",
       "53935                      0.72        Ideal     D     SI1   60.8   57.0   \n",
       "53936                      0.72         Good     D     SI1   63.1   55.0   \n",
       "53937                      0.70    Very Good     D     SI1   62.8   60.0   \n",
       "53938                      0.86      Premium     H     SI2   61.0   58.0   \n",
       "53939                      0.75        Ideal     D     SI2   62.2   55.0   \n",
       "\n",
       "       Price(in US dollars)  X(length)  Y(width)  Z(Depth)  \n",
       "0                       326       3.95      3.98      2.43  \n",
       "1                       326       3.89      3.84      2.31  \n",
       "2                       327       4.05      4.07      2.31  \n",
       "3                       334       4.20      4.23      2.63  \n",
       "4                       335       4.34      4.35      2.75  \n",
       "...                     ...        ...       ...       ...  \n",
       "53935                  2757       5.75      5.76      3.50  \n",
       "53936                  2757       5.69      5.75      3.61  \n",
       "53937                  2757       5.66      5.68      3.56  \n",
       "53938                  2757       6.15      6.12      3.74  \n",
       "53939                  2757       5.83      5.87      3.64  \n",
       "\n",
       "[53940 rows x 10 columns]>"
      ]
     },
     "execution_count": 9,
     "metadata": {},
     "output_type": "execute_result"
    }
   ],
   "source": [
    "data.value_counts"
   ]
  },
  {
   "cell_type": "code",
   "execution_count": 10,
   "id": "078d7a88",
   "metadata": {},
   "outputs": [],
   "source": [
    "# Renaming columns\n",
    "data.rename(columns={'Carat(Weight of Daimond)': 'Carat', 'Price(in US dollars)': 'Price', 'Cut(Quality)':'Quality',\n",
    "                    'X(length)':'length', 'Y(width)':'width', 'Z(Depth)':'depth'}, inplace=True)"
   ]
  },
  {
   "cell_type": "code",
   "execution_count": 11,
   "id": "1d00f807",
   "metadata": {},
   "outputs": [
    {
     "data": {
      "text/html": [
       "<div>\n",
       "<style scoped>\n",
       "    .dataframe tbody tr th:only-of-type {\n",
       "        vertical-align: middle;\n",
       "    }\n",
       "\n",
       "    .dataframe tbody tr th {\n",
       "        vertical-align: top;\n",
       "    }\n",
       "\n",
       "    .dataframe thead th {\n",
       "        text-align: right;\n",
       "    }\n",
       "</style>\n",
       "<table border=\"1\" class=\"dataframe\">\n",
       "  <thead>\n",
       "    <tr style=\"text-align: right;\">\n",
       "      <th></th>\n",
       "      <th>Carat</th>\n",
       "      <th>Quality</th>\n",
       "      <th>Color</th>\n",
       "      <th>Clarity</th>\n",
       "      <th>Depth</th>\n",
       "      <th>Table</th>\n",
       "      <th>Price</th>\n",
       "      <th>length</th>\n",
       "      <th>width</th>\n",
       "      <th>depth</th>\n",
       "    </tr>\n",
       "  </thead>\n",
       "  <tbody>\n",
       "    <tr>\n",
       "      <th>0</th>\n",
       "      <td>0.23</td>\n",
       "      <td>Ideal</td>\n",
       "      <td>E</td>\n",
       "      <td>SI2</td>\n",
       "      <td>61.5</td>\n",
       "      <td>55.0</td>\n",
       "      <td>326</td>\n",
       "      <td>3.95</td>\n",
       "      <td>3.98</td>\n",
       "      <td>2.43</td>\n",
       "    </tr>\n",
       "    <tr>\n",
       "      <th>1</th>\n",
       "      <td>0.21</td>\n",
       "      <td>Premium</td>\n",
       "      <td>E</td>\n",
       "      <td>SI1</td>\n",
       "      <td>59.8</td>\n",
       "      <td>61.0</td>\n",
       "      <td>326</td>\n",
       "      <td>3.89</td>\n",
       "      <td>3.84</td>\n",
       "      <td>2.31</td>\n",
       "    </tr>\n",
       "    <tr>\n",
       "      <th>2</th>\n",
       "      <td>0.23</td>\n",
       "      <td>Good</td>\n",
       "      <td>E</td>\n",
       "      <td>VS1</td>\n",
       "      <td>56.9</td>\n",
       "      <td>65.0</td>\n",
       "      <td>327</td>\n",
       "      <td>4.05</td>\n",
       "      <td>4.07</td>\n",
       "      <td>2.31</td>\n",
       "    </tr>\n",
       "    <tr>\n",
       "      <th>3</th>\n",
       "      <td>0.29</td>\n",
       "      <td>Premium</td>\n",
       "      <td>I</td>\n",
       "      <td>VS2</td>\n",
       "      <td>62.4</td>\n",
       "      <td>58.0</td>\n",
       "      <td>334</td>\n",
       "      <td>4.20</td>\n",
       "      <td>4.23</td>\n",
       "      <td>2.63</td>\n",
       "    </tr>\n",
       "    <tr>\n",
       "      <th>4</th>\n",
       "      <td>0.31</td>\n",
       "      <td>Good</td>\n",
       "      <td>J</td>\n",
       "      <td>SI2</td>\n",
       "      <td>63.3</td>\n",
       "      <td>58.0</td>\n",
       "      <td>335</td>\n",
       "      <td>4.34</td>\n",
       "      <td>4.35</td>\n",
       "      <td>2.75</td>\n",
       "    </tr>\n",
       "  </tbody>\n",
       "</table>\n",
       "</div>"
      ],
      "text/plain": [
       "   Carat  Quality Color Clarity  Depth  Table  Price  length  width  depth\n",
       "0   0.23    Ideal     E     SI2   61.5   55.0    326    3.95   3.98   2.43\n",
       "1   0.21  Premium     E     SI1   59.8   61.0    326    3.89   3.84   2.31\n",
       "2   0.23     Good     E     VS1   56.9   65.0    327    4.05   4.07   2.31\n",
       "3   0.29  Premium     I     VS2   62.4   58.0    334    4.20   4.23   2.63\n",
       "4   0.31     Good     J     SI2   63.3   58.0    335    4.34   4.35   2.75"
      ]
     },
     "execution_count": 11,
     "metadata": {},
     "output_type": "execute_result"
    }
   ],
   "source": [
    "data.head()"
   ]
  },
  {
   "cell_type": "code",
   "execution_count": 20,
   "id": "6686d52c",
   "metadata": {},
   "outputs": [
    {
     "data": {
      "text/plain": [
       "<AxesSubplot:xlabel='Price', ylabel='Count'>"
      ]
     },
     "execution_count": 20,
     "metadata": {},
     "output_type": "execute_result"
    },
    {
     "data": {
      "image/png": "[encoded data removed]",
      "text/plain": [
       "<Figure size 864x504 with 1 Axes>"
      ]
     },
     "metadata": {
      "needs_background": "light"
     },
     "output_type": "display_data"
    }
   ],
   "source": [
    "plt.figure(figsize=(12,7))\n",
    "sns.histplot(data['Price'])"
   ]
  },
  {
   "cell_type": "code",
   "execution_count": 24,
   "id": "8c6241cd",
   "metadata": {},
   "outputs": [
    {
     "data": {
      "text/plain": [
       "<AxesSubplot:xlabel='Carat', ylabel='Count'>"
      ]
     },
     "execution_count": 24,
     "metadata": {},
     "output_type": "execute_result"
    },
    {
     "data": {
      "image/png": "[encoded data removed]",
      "text/plain": [
       "<Figure size 864x576 with 1 Axes>"
      ]
     },
     "metadata": {
      "needs_background": "light"
     },
     "output_type": "display_data"
    }
   ],
   "source": [
    "plt.figure(figsize=(12,8))\n",
    "sns.histplot(data['Carat'],bins=28)"
   ]
  },
  {
   "cell_type": "code",
   "execution_count": 29,
   "id": "6115ee04",
   "metadata": {},
   "outputs": [
    {
     "data": {
      "image/png": "[encoded data removed]",
      "text/plain": [
       "<Figure size 864x504 with 1 Axes>"
      ]
     },
     "metadata": {},
     "output_type": "display_data"
    }
   ],
   "source": [
    "plt.figure(figsize=(12,7))\n",
    "plt.pie(data['Quality'].value_counts(),labels=['Ideal','Premium','Very Good','Good','Fair'],autopct='%1.1f%%')\n",
    "plt.title('CUT')\n",
    "plt.show()"
   ]
  },
  {
   "cell_type": "code",
   "execution_count": 32,
   "id": "1f06564f",
   "metadata": {},
   "outputs": [
    {
     "data": {
      "image/png": "[encoded data removed]",
      "text/plain": [
       "<Figure size 864x504 with 1 Axes>"
      ]
     },
     "metadata": {
      "needs_background": "light"
     },
     "output_type": "display_data"
    }
   ],
   "source": [
    "plt.figure(figsize=(12,7))\n",
    "plt.bar(data['Color'].value_counts().index,data['Color'].value_counts())\n",
    "plt.ylabel(\"Number of Diamonds\")\n",
    "plt.xlabel(\"Color\")\n",
    "plt.show()"
   ]
  },
  {
   "cell_type": "code",
   "execution_count": 35,
   "id": "1e54d172",
   "metadata": {},
   "outputs": [
    {
     "data": {
      "image/png": "[encoded data removed]",
      "text/plain": [
       "<Figure size 720x360 with 1 Axes>"
      ]
     },
     "metadata": {
      "needs_background": "light"
     },
     "output_type": "display_data"
    }
   ],
   "source": [
    "plt.figure(figsize=(10,5))\n",
    "plt.bar(data['Clarity'].value_counts().index,data['Clarity'].value_counts())\n",
    "plt.title('Clarity')\n",
    "plt.ylabel(\"Number of Diamonds\")\n",
    "plt.xlabel(\"Clarity\")\n",
    "plt.show()"
   ]
  },
  {
   "cell_type": "code",
   "execution_count": 40,
   "id": "2af38df9",
   "metadata": {},
   "outputs": [
    {
     "data": {
      "text/plain": [
       "<AxesSubplot:xlabel='Table', ylabel='Count'>"
      ]
     },
     "execution_count": 40,
     "metadata": {},
     "output_type": "execute_result"
    },
    {
     "data": {
      "image/png": "[encoded data removed]",
      "text/plain": [
       "<Figure size 576x504 with 1 Axes>"
      ]
     },
     "metadata": {
      "needs_background": "light"
     },
     "output_type": "display_data"
    }
   ],
   "source": [
    "plt.figure(figsize=(8,7))\n",
    "sns.histplot(data['Table'],bins=30)"
   ]
  },
  {
   "cell_type": "code",
   "execution_count": 42,
   "id": "59818f92",
   "metadata": {},
   "outputs": [
    {
     "data": {
      "text/plain": [
       "<AxesSubplot:xlabel='Quality', ylabel='Price'>"
      ]
     },
     "execution_count": 42,
     "metadata": {},
     "output_type": "execute_result"
    },
    {
     "data": {
      "image/png": "[encoded data removed]",
      "text/plain": [
       "<Figure size 432x288 with 1 Axes>"
      ]
     },
     "metadata": {
      "needs_background": "light"
     },
     "output_type": "display_data"
    }
   ],
   "source": [
    "sns.barplot(x='Quality',y='Price',data=data)"
   ]
  },
  {
   "cell_type": "code",
   "execution_count": 45,
   "id": "c2a83c84",
   "metadata": {},
   "outputs": [
    {
     "data": {
      "text/plain": [
       "<AxesSubplot:xlabel='Clarity', ylabel='Price'>"
      ]
     },
     "execution_count": 45,
     "metadata": {},
     "output_type": "execute_result"
    },
    {
     "data": {
      "image/png": "[encoded data removed]",
      "text/plain": [
       "<Figure size 432x288 with 1 Axes>"
      ]
     },
     "metadata": {
      "needs_background": "light"
     },
     "output_type": "display_data"
    }
   ],
   "source": [
    "sns.barplot(x = 'Clarity', y = 'Price', data = data)"
   ]
  },
  {
   "cell_type": "code",
   "execution_count": 46,
   "id": "ae7e9bf2",
   "metadata": {},
   "outputs": [
    {
     "data": {
      "text/html": [
       "<div>\n",
       "<style scoped>\n",
       "    .dataframe tbody tr th:only-of-type {\n",
       "        vertical-align: middle;\n",
       "    }\n",
       "\n",
       "    .dataframe tbody tr th {\n",
       "        vertical-align: top;\n",
       "    }\n",
       "\n",
       "    .dataframe thead th {\n",
       "        text-align: right;\n",
       "    }\n",
       "</style>\n",
       "<table border=\"1\" class=\"dataframe\">\n",
       "  <thead>\n",
       "    <tr style=\"text-align: right;\">\n",
       "      <th></th>\n",
       "      <th>Carat</th>\n",
       "      <th>Depth</th>\n",
       "      <th>Table</th>\n",
       "      <th>Price</th>\n",
       "      <th>length</th>\n",
       "      <th>width</th>\n",
       "      <th>depth</th>\n",
       "    </tr>\n",
       "  </thead>\n",
       "  <tbody>\n",
       "    <tr>\n",
       "      <th>Carat</th>\n",
       "      <td>1.000000</td>\n",
       "      <td>0.028224</td>\n",
       "      <td>0.181618</td>\n",
       "      <td>0.921591</td>\n",
       "      <td>0.975094</td>\n",
       "      <td>0.951722</td>\n",
       "      <td>0.953387</td>\n",
       "    </tr>\n",
       "    <tr>\n",
       "      <th>Depth</th>\n",
       "      <td>0.028224</td>\n",
       "      <td>1.000000</td>\n",
       "      <td>-0.295779</td>\n",
       "      <td>-0.010647</td>\n",
       "      <td>-0.025289</td>\n",
       "      <td>-0.029341</td>\n",
       "      <td>0.094924</td>\n",
       "    </tr>\n",
       "    <tr>\n",
       "      <th>Table</th>\n",
       "      <td>0.181618</td>\n",
       "      <td>-0.295779</td>\n",
       "      <td>1.000000</td>\n",
       "      <td>0.127134</td>\n",
       "      <td>0.195344</td>\n",
       "      <td>0.183760</td>\n",
       "      <td>0.150929</td>\n",
       "    </tr>\n",
       "    <tr>\n",
       "      <th>Price</th>\n",
       "      <td>0.921591</td>\n",
       "      <td>-0.010647</td>\n",
       "      <td>0.127134</td>\n",
       "      <td>1.000000</td>\n",
       "      <td>0.884435</td>\n",
       "      <td>0.865421</td>\n",
       "      <td>0.861249</td>\n",
       "    </tr>\n",
       "    <tr>\n",
       "      <th>length</th>\n",
       "      <td>0.975094</td>\n",
       "      <td>-0.025289</td>\n",
       "      <td>0.195344</td>\n",
       "      <td>0.884435</td>\n",
       "      <td>1.000000</td>\n",
       "      <td>0.974701</td>\n",
       "      <td>0.970772</td>\n",
       "    </tr>\n",
       "    <tr>\n",
       "      <th>width</th>\n",
       "      <td>0.951722</td>\n",
       "      <td>-0.029341</td>\n",
       "      <td>0.183760</td>\n",
       "      <td>0.865421</td>\n",
       "      <td>0.974701</td>\n",
       "      <td>1.000000</td>\n",
       "      <td>0.952006</td>\n",
       "    </tr>\n",
       "    <tr>\n",
       "      <th>depth</th>\n",
       "      <td>0.953387</td>\n",
       "      <td>0.094924</td>\n",
       "      <td>0.150929</td>\n",
       "      <td>0.861249</td>\n",
       "      <td>0.970772</td>\n",
       "      <td>0.952006</td>\n",
       "      <td>1.000000</td>\n",
       "    </tr>\n",
       "  </tbody>\n",
       "</table>\n",
       "</div>"
      ],
      "text/plain": [
       "           Carat     Depth     Table     Price    length     width     depth\n",
       "Carat   1.000000  0.028224  0.181618  0.921591  0.975094  0.951722  0.953387\n",
       "Depth   0.028224  1.000000 -0.295779 -0.010647 -0.025289 -0.029341  0.094924\n",
       "Table   0.181618 -0.295779  1.000000  0.127134  0.195344  0.183760  0.150929\n",
       "Price   0.921591 -0.010647  0.127134  1.000000  0.884435  0.865421  0.861249\n",
       "length  0.975094 -0.025289  0.195344  0.884435  1.000000  0.974701  0.970772\n",
       "width   0.951722 -0.029341  0.183760  0.865421  0.974701  1.000000  0.952006\n",
       "depth   0.953387  0.094924  0.150929  0.861249  0.970772  0.952006  1.000000"
      ]
     },
     "execution_count": 46,
     "metadata": {},
     "output_type": "execute_result"
    }
   ],
   "source": [
    "data.corr()"
   ]
  },
  {
   "cell_type": "code",
   "execution_count": 53,
   "id": "843cf066",
   "metadata": {},
   "outputs": [
    {
     "data": {
      "image/png": "[encoded data removed]",
      "text/plain": [
       "<Figure size 864x864 with 2 Axes>"
      ]
     },
     "metadata": {
      "needs_background": "light"
     },
     "output_type": "display_data"
    }
   ],
   "source": [
    "plt.figure(figsize=(12,12))\n",
    "sns.heatmap(data.corr(),annot=True,cmap='crest')\n",
    "plt.title('Heatmap')\n",
    "plt.show()"
   ]
  },
  {
   "cell_type": "code",
   "execution_count": 55,
   "id": "8f185285",
   "metadata": {},
   "outputs": [
    {
     "data": {
      "text/plain": [
       "<AxesSubplot:xlabel='Carat', ylabel='Price'>"
      ]
     },
     "execution_count": 55,
     "metadata": {},
     "output_type": "execute_result"
    },
    {
     "data": {
      "image/png": "[encoded data removed]",
      "text/plain": [
       "<Figure size 864x504 with 1 Axes>"
      ]
     },
     "metadata": {
      "needs_background": "light"
     },
     "output_type": "display_data"
    }
   ],
   "source": [
    "plt.figure(figsize=(12,7))\n",
    "sns.lineplot(x='Carat',y='Price',data=data)"
   ]
  },
  {
   "cell_type": "code",
   "execution_count": 71,
   "id": "6d68d4e8",
   "metadata": {},
   "outputs": [
    {
     "data": {
      "text/html": [
       "<div>\n",
       "<style scoped>\n",
       "    .dataframe tbody tr th:only-of-type {\n",
       "        vertical-align: middle;\n",
       "    }\n",
       "\n",
       "    .dataframe tbody tr th {\n",
       "        vertical-align: top;\n",
       "    }\n",
       "\n",
       "    .dataframe thead th {\n",
       "        text-align: right;\n",
       "    }\n",
       "</style>\n",
       "<table border=\"1\" class=\"dataframe\">\n",
       "  <thead>\n",
       "    <tr style=\"text-align: right;\">\n",
       "      <th></th>\n",
       "      <th>Carat</th>\n",
       "      <th>Quality</th>\n",
       "      <th>Color</th>\n",
       "      <th>Clarity</th>\n",
       "      <th>Depth</th>\n",
       "      <th>Table</th>\n",
       "      <th>Price</th>\n",
       "      <th>length</th>\n",
       "      <th>width</th>\n",
       "      <th>depth</th>\n",
       "    </tr>\n",
       "  </thead>\n",
       "  <tbody>\n",
       "    <tr>\n",
       "      <th>0</th>\n",
       "      <td>0.23</td>\n",
       "      <td>2</td>\n",
       "      <td>1</td>\n",
       "      <td>3</td>\n",
       "      <td>61.5</td>\n",
       "      <td>55.0</td>\n",
       "      <td>326</td>\n",
       "      <td>3.95</td>\n",
       "      <td>3.98</td>\n",
       "      <td>2.43</td>\n",
       "    </tr>\n",
       "    <tr>\n",
       "      <th>1</th>\n",
       "      <td>0.21</td>\n",
       "      <td>3</td>\n",
       "      <td>1</td>\n",
       "      <td>2</td>\n",
       "      <td>59.8</td>\n",
       "      <td>61.0</td>\n",
       "      <td>326</td>\n",
       "      <td>3.89</td>\n",
       "      <td>3.84</td>\n",
       "      <td>2.31</td>\n",
       "    </tr>\n",
       "    <tr>\n",
       "      <th>2</th>\n",
       "      <td>0.23</td>\n",
       "      <td>1</td>\n",
       "      <td>1</td>\n",
       "      <td>4</td>\n",
       "      <td>56.9</td>\n",
       "      <td>65.0</td>\n",
       "      <td>327</td>\n",
       "      <td>4.05</td>\n",
       "      <td>4.07</td>\n",
       "      <td>2.31</td>\n",
       "    </tr>\n",
       "    <tr>\n",
       "      <th>3</th>\n",
       "      <td>0.29</td>\n",
       "      <td>3</td>\n",
       "      <td>5</td>\n",
       "      <td>5</td>\n",
       "      <td>62.4</td>\n",
       "      <td>58.0</td>\n",
       "      <td>334</td>\n",
       "      <td>4.20</td>\n",
       "      <td>4.23</td>\n",
       "      <td>2.63</td>\n",
       "    </tr>\n",
       "    <tr>\n",
       "      <th>4</th>\n",
       "      <td>0.31</td>\n",
       "      <td>1</td>\n",
       "      <td>6</td>\n",
       "      <td>3</td>\n",
       "      <td>63.3</td>\n",
       "      <td>58.0</td>\n",
       "      <td>335</td>\n",
       "      <td>4.34</td>\n",
       "      <td>4.35</td>\n",
       "      <td>2.75</td>\n",
       "    </tr>\n",
       "    <tr>\n",
       "      <th>...</th>\n",
       "      <td>...</td>\n",
       "      <td>...</td>\n",
       "      <td>...</td>\n",
       "      <td>...</td>\n",
       "      <td>...</td>\n",
       "      <td>...</td>\n",
       "      <td>...</td>\n",
       "      <td>...</td>\n",
       "      <td>...</td>\n",
       "      <td>...</td>\n",
       "    </tr>\n",
       "    <tr>\n",
       "      <th>53935</th>\n",
       "      <td>0.72</td>\n",
       "      <td>2</td>\n",
       "      <td>0</td>\n",
       "      <td>2</td>\n",
       "      <td>60.8</td>\n",
       "      <td>57.0</td>\n",
       "      <td>2757</td>\n",
       "      <td>5.75</td>\n",
       "      <td>5.76</td>\n",
       "      <td>3.50</td>\n",
       "    </tr>\n",
       "    <tr>\n",
       "      <th>53936</th>\n",
       "      <td>0.72</td>\n",
       "      <td>1</td>\n",
       "      <td>0</td>\n",
       "      <td>2</td>\n",
       "      <td>63.1</td>\n",
       "      <td>55.0</td>\n",
       "      <td>2757</td>\n",
       "      <td>5.69</td>\n",
       "      <td>5.75</td>\n",
       "      <td>3.61</td>\n",
       "    </tr>\n",
       "    <tr>\n",
       "      <th>53937</th>\n",
       "      <td>0.70</td>\n",
       "      <td>4</td>\n",
       "      <td>0</td>\n",
       "      <td>2</td>\n",
       "      <td>62.8</td>\n",
       "      <td>60.0</td>\n",
       "      <td>2757</td>\n",
       "      <td>5.66</td>\n",
       "      <td>5.68</td>\n",
       "      <td>3.56</td>\n",
       "    </tr>\n",
       "    <tr>\n",
       "      <th>53938</th>\n",
       "      <td>0.86</td>\n",
       "      <td>3</td>\n",
       "      <td>4</td>\n",
       "      <td>3</td>\n",
       "      <td>61.0</td>\n",
       "      <td>58.0</td>\n",
       "      <td>2757</td>\n",
       "      <td>6.15</td>\n",
       "      <td>6.12</td>\n",
       "      <td>3.74</td>\n",
       "    </tr>\n",
       "    <tr>\n",
       "      <th>53939</th>\n",
       "      <td>0.75</td>\n",
       "      <td>2</td>\n",
       "      <td>0</td>\n",
       "      <td>3</td>\n",
       "      <td>62.2</td>\n",
       "      <td>55.0</td>\n",
       "      <td>2757</td>\n",
       "      <td>5.83</td>\n",
       "      <td>5.87</td>\n",
       "      <td>3.64</td>\n",
       "    </tr>\n",
       "  </tbody>\n",
       "</table>\n",
       "<p>53940 rows × 10 columns</p>\n",
       "</div>"
      ],
      "text/plain": [
       "       Carat  Quality  Color  Clarity  Depth  Table  Price  length  width  \\\n",
       "0       0.23        2      1        3   61.5   55.0    326    3.95   3.98   \n",
       "1       0.21        3      1        2   59.8   61.0    326    3.89   3.84   \n",
       "2       0.23        1      1        4   56.9   65.0    327    4.05   4.07   \n",
       "3       0.29        3      5        5   62.4   58.0    334    4.20   4.23   \n",
       "4       0.31        1      6        3   63.3   58.0    335    4.34   4.35   \n",
       "...      ...      ...    ...      ...    ...    ...    ...     ...    ...   \n",
       "53935   0.72        2      0        2   60.8   57.0   2757    5.75   5.76   \n",
       "53936   0.72        1      0        2   63.1   55.0   2757    5.69   5.75   \n",
       "53937   0.70        4      0        2   62.8   60.0   2757    5.66   5.68   \n",
       "53938   0.86        3      4        3   61.0   58.0   2757    6.15   6.12   \n",
       "53939   0.75        2      0        3   62.2   55.0   2757    5.83   5.87   \n",
       "\n",
       "       depth  \n",
       "0       2.43  \n",
       "1       2.31  \n",
       "2       2.31  \n",
       "3       2.63  \n",
       "4       2.75  \n",
       "...      ...  \n",
       "53935   3.50  \n",
       "53936   3.61  \n",
       "53937   3.56  \n",
       "53938   3.74  \n",
       "53939   3.64  \n",
       "\n",
       "[53940 rows x 10 columns]"
      ]
     },
     "execution_count": 71,
     "metadata": {},
     "output_type": "execute_result"
    }
   ],
   "source": [
    "def LABEL_ENCODING(c1):\n",
    "    from sklearn import preprocessing\n",
    "    label_encoder = preprocessing.LabelEncoder()\n",
    "    data[c1]= label_encoder.fit_transform(data[c1])\n",
    "    data[c1].unique()\n",
    "LABEL_ENCODING(\"Quality\")\n",
    "LABEL_ENCODING(\"Color\")\n",
    "LABEL_ENCODING(\"Clarity\")\n",
    "data"
   ]
  },
  {
   "cell_type": "code",
   "execution_count": 74,
   "id": "775d0cf7",
   "metadata": {},
   "outputs": [],
   "source": [
    "from sklearn.model_selection import train_test_split\n",
    "x_test,x_train,y_test,y_train = train_test_split(data.drop('Price',axis=1),data['Price'])"
   ]
  },
  {
   "cell_type": "code",
   "execution_count": 98,
   "id": "8dad177a",
   "metadata": {},
   "outputs": [
    {
     "data": {
      "text/plain": [
       "DecisionTreeRegressor()"
      ]
     },
     "execution_count": 98,
     "metadata": {},
     "output_type": "execute_result"
    }
   ],
   "source": [
    "from sklearn.tree import DecisionTreeRegressor\n",
    "dt_model = DecisionTreeRegressor()\n",
    "dt_model\n"
   ]
  },
  {
   "cell_type": "code",
   "execution_count": 99,
   "id": "5b43905f",
   "metadata": {},
   "outputs": [
    {
     "data": {
      "text/plain": [
       "DecisionTreeRegressor()"
      ]
     },
     "execution_count": 99,
     "metadata": {},
     "output_type": "execute_result"
    }
   ],
   "source": [
    "dt_model.fit(x_train,y_train)"
   ]
  },
  {
   "cell_type": "code",
   "execution_count": 100,
   "id": "bacf5ab1",
   "metadata": {},
   "outputs": [
    {
     "data": {
      "text/plain": [
       "0.9999993000419072"
      ]
     },
     "execution_count": 100,
     "metadata": {},
     "output_type": "execute_result"
    }
   ],
   "source": [
    "dt_model.score(x_train,y_train)"
   ]
  },
  {
   "cell_type": "code",
   "execution_count": 107,
   "id": "aeb485e0",
   "metadata": {},
   "outputs": [],
   "source": [
    "#predicting the test\n",
    "dt_pred = dt_model.predict(x_test)"
   ]
  },
  {
   "cell_type": "code",
   "execution_count": 109,
   "id": "928dc5bb",
   "metadata": {},
   "outputs": [
    {
     "data": {
      "text/plain": [
       "array([ 2415.,  1616., 14740., ...,  2814.,  3733.,   629.])"
      ]
     },
     "execution_count": 109,
     "metadata": {},
     "output_type": "execute_result"
    }
   ],
   "source": [
    "dt_pred"
   ]
  },
  {
   "cell_type": "code",
   "execution_count": 103,
   "id": "3432510d",
   "metadata": {},
   "outputs": [
    {
     "data": {
      "text/plain": [
       "RandomForestRegressor()"
      ]
     },
     "execution_count": 103,
     "metadata": {},
     "output_type": "execute_result"
    }
   ],
   "source": [
    "from sklearn.ensemble import RandomForestRegressor\n",
    "rf_model = RandomForestRegressor()\n",
    "rf_model"
   ]
  },
  {
   "cell_type": "code",
   "execution_count": 104,
   "id": "851f018d",
   "metadata": {},
   "outputs": [
    {
     "data": {
      "text/plain": [
       "RandomForestRegressor()"
      ]
     },
     "execution_count": 104,
     "metadata": {},
     "output_type": "execute_result"
    }
   ],
   "source": [
    "rf_model.fit(x_train,y_train)"
   ]
  },
  {
   "cell_type": "code",
   "execution_count": 105,
   "id": "d57b4a36",
   "metadata": {},
   "outputs": [
    {
     "data": {
      "text/plain": [
       "0.9968076879031514"
      ]
     },
     "execution_count": 105,
     "metadata": {},
     "output_type": "execute_result"
    }
   ],
   "source": [
    "#train accuracy\n",
    "rf_model.score(x_train,y_train)"
   ]
  },
  {
   "cell_type": "code",
   "execution_count": 111,
   "id": "70cfa1ee",
   "metadata": {},
   "outputs": [
    {
     "data": {
      "text/plain": [
       "array([ 2234.64,  1532.72, 15629.22, ...,  2922.58,  3738.18,   654.17])"
      ]
     },
     "execution_count": 111,
     "metadata": {},
     "output_type": "execute_result"
    }
   ],
   "source": [
    "\n",
    "#predicting the test set\n",
    "rf_pred = rf_model.predict(x_test)\n",
    "rf_pred"
   ]
  },
  {
   "cell_type": "code",
   "execution_count": 112,
   "id": "02dd58e9",
   "metadata": {},
   "outputs": [
    {
     "name": "stdout",
     "output_type": "stream",
     "text": [
      "Decision Tree Regressor RMSE: 806.7096628556058\n",
      "Decision Tree Regressor Accuracy: 0.977147919433478\n",
      "Decision Tree Regressor MAE: 406.19526634532195\n"
     ]
    }
   ],
   "source": [
    "from sklearn.metrics import mean_squared_error, mean_absolute_error\n",
    "\n",
    "# RMSE\n",
    "rmse = np.sqrt(mean_squared_error(y_test, dt_pred))\n",
    "print('Decision Tree Regressor RMSE:', rmse)\n",
    "\n",
    "# accuracy\n",
    "accuracy = model.score(x_test, y_test)\n",
    "print('Decision Tree Regressor Accuracy:', accuracy)\n",
    "\n",
    "# MAE\n",
    "mae = mean_absolute_error(y_test, dt_pred)\n",
    "print('Decision Tree Regressor MAE:', mae)\n"
   ]
  },
  {
   "cell_type": "code",
   "execution_count": 113,
   "id": "6d75663d",
   "metadata": {},
   "outputs": [
    {
     "name": "stdout",
     "output_type": "stream",
     "text": [
      "Decision Tree Regressor RMSE: 600.5944763971765\n",
      "Decision Tree Regressor Accuracy: 0.977147919433478\n",
      "Decision Tree Regressor MAE: 302.7950426935278\n"
     ]
    }
   ],
   "source": [
    "from sklearn.metrics import mean_squared_error, mean_absolute_error\n",
    "\n",
    "# RMSE\n",
    "rmse = np.sqrt(mean_squared_error(y_test, rf_pred))\n",
    "print('Decision Tree Regressor RMSE:', rmse)\n",
    "\n",
    "# accuracy\n",
    "accuracy = model.score(x_test, y_test)\n",
    "print('Decision Tree Regressor Accuracy:', accuracy)\n",
    "\n",
    "# MAE\n",
    "mae = mean_absolute_error(y_test, rf_pred)\n",
    "print('Decision Tree Regressor MAE:', mae)\n"
   ]
  },
  {
   "cell_type": "code",
   "execution_count": null,
   "id": "1189769c",
   "metadata": {},
   "outputs": [],
   "source": []
  }
 ],
 "metadata": {
  "kernelspec": {
   "display_name": "Python 3 (ipykernel)",
   "language": "python",
   "name": "python3"
  },
  "language_info": {
   "codemirror_mode": {
    "name": "ipython",
    "version": 3
   },
   "file_extension": ".py",
   "mimetype": "text/x-python",
   "name": "python",
   "nbconvert_exporter": "python",
   "pygments_lexer": "ipython3",
   "version": "3.9.7"
  }
 },
 "nbformat": 4,
 "nbformat_minor": 5
}
